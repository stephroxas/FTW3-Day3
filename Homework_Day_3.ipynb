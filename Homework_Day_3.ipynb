{
  "nbformat": 4,
  "nbformat_minor": 0,
  "metadata": {
    "colab": {
      "name": "Homework - Day 3.ipynb",
      "provenance": [],
      "collapsed_sections": []
    },
    "kernelspec": {
      "name": "python3",
      "display_name": "Python 3"
    }
  },
  "cells": [
    {
      "cell_type": "code",
      "metadata": {
        "id": "9HHDdTqqgH5p",
        "colab_type": "code",
        "colab": {
          "base_uri": "https://localhost:8080/",
          "height": 34
        },
        "outputId": "51769f90-a202-4c49-852c-4ed3fcee1277"
      },
      "source": [
        "# Euler Prob 1 (Multiples of 3 and 5)\n",
        "\n",
        "sums=0\n",
        "i=0\n",
        "while i<1000 :\n",
        "  if i%5 ==0 or i%3 == 0:\n",
        "    sums=sums+i\n",
        "  i=i+1\n",
        "sums"
      ],
      "execution_count": 1,
      "outputs": [
        {
          "output_type": "execute_result",
          "data": {
            "text/plain": [
              "233168"
            ]
          },
          "metadata": {
            "tags": []
          },
          "execution_count": 1
        }
      ]
    },
    {
      "cell_type": "code",
      "metadata": {
        "id": "gFFYU4HjgY8O",
        "colab_type": "code",
        "colab": {
          "base_uri": "https://localhost:8080/",
          "height": 34
        },
        "outputId": "6f3fbd48-8cfb-473c-e200-79f4d45cc646"
      },
      "source": [
        "# Euler Problem 1 (1 line of code)\n",
        "\n",
        "sum(x for x in range(1000) if (x % 3 == 0 or x % 5 == 0))"
      ],
      "execution_count": 2,
      "outputs": [
        {
          "output_type": "execute_result",
          "data": {
            "text/plain": [
              "233168"
            ]
          },
          "metadata": {
            "tags": []
          },
          "execution_count": 2
        }
      ]
    },
    {
      "cell_type": "code",
      "metadata": {
        "id": "2MqIphYngeZN",
        "colab_type": "code",
        "colab": {
          "base_uri": "https://localhost:8080/",
          "height": 34
        },
        "outputId": "ada50e08-f58b-4bdf-afad-8dd3800d793d"
      },
      "source": [
        "# Euler Prob 2 (Fibonacci)\n",
        "\n",
        "x = 1\n",
        "y = 2\n",
        "fibo=[x, y]\n",
        "while y < 4000000:\n",
        "  x, y = y, x + y\n",
        "  fibo.append(y)\n",
        "sum(x for x in fibo if x % 2 == 0)"
      ],
      "execution_count": 3,
      "outputs": [
        {
          "output_type": "execute_result",
          "data": {
            "text/plain": [
              "4613732"
            ]
          },
          "metadata": {
            "tags": []
          },
          "execution_count": 3
        }
      ]
    },
    {
      "cell_type": "code",
      "metadata": {
        "id": "0Py0DRKRglwe",
        "colab_type": "code",
        "colab": {}
      },
      "source": [
        "# START OF HOMEWORK"
      ],
      "execution_count": 0,
      "outputs": []
    },
    {
      "cell_type": "code",
      "metadata": {
        "id": "CgWmd0iWgpmk",
        "colab_type": "code",
        "colab": {
          "base_uri": "https://localhost:8080/",
          "height": 34
        },
        "outputId": "36950260-7233-4f9e-d449-16cfd5fde552"
      },
      "source": [
        "#Prime Number Checker\n",
        "\n",
        "def prime(n):\n",
        "  for i in range (2, n):\n",
        "    if (n % i == 0):\n",
        "      return (str(n) + \" is not a Prime Number\")\n",
        "    else:\n",
        "      return (str(n) + \" is a Prime Number\")\n",
        "\n",
        "prime(7017)"
      ],
      "execution_count": 5,
      "outputs": [
        {
          "output_type": "execute_result",
          "data": {
            "text/plain": [
              "'7017 is a Prime Number'"
            ]
          },
          "metadata": {
            "tags": []
          },
          "execution_count": 5
        }
      ]
    },
    {
      "cell_type": "code",
      "metadata": {
        "id": "xHqtKdmzgtWF",
        "colab_type": "code",
        "colab": {
          "base_uri": "https://localhost:8080/",
          "height": 34
        },
        "outputId": "a22f9730-c992-49c7-93e0-0773a02869f7"
      },
      "source": [
        "# Palindrome Tester\n",
        "\n",
        "def ispalindrome(str):\n",
        "  if (str == str[::-1]):\n",
        "    print(\"Yes\")\n",
        "  else:\n",
        "    print(\"No\")\n",
        "\n",
        "ispalindrome(\"neveroddoreven\")"
      ],
      "execution_count": 6,
      "outputs": [
        {
          "output_type": "stream",
          "text": [
            "Yes\n"
          ],
          "name": "stdout"
        }
      ]
    },
    {
      "cell_type": "code",
      "metadata": {
        "id": "xEaw_pJ5gzOo",
        "colab_type": "code",
        "colab": {
          "base_uri": "https://localhost:8080/",
          "height": 34
        },
        "outputId": "957688e9-20bd-4f11-c7cd-f15b043b66e3"
      },
      "source": [
        "# Largest Prime Factor of 600851475143\n",
        "\n",
        "def maxprime(n):\n",
        "    i = 2\n",
        "    while (n > i):\n",
        "        if (n % i == 0):\n",
        "          n = n / i\n",
        "        else:\n",
        "            i = i + 1\n",
        "    print ((i))\n",
        "  \n",
        "maxprime(600851475143)"
      ],
      "execution_count": 7,
      "outputs": [
        {
          "output_type": "stream",
          "text": [
            "6857\n"
          ],
          "name": "stdout"
        }
      ]
    },
    {
      "cell_type": "code",
      "metadata": {
        "id": "w03Mzafprn6_",
        "colab_type": "code",
        "colab": {
          "base_uri": "https://localhost:8080/",
          "height": 34
        },
        "outputId": "1c4f4092-2e8f-4d1c-b5f6-ba11673b72b0"
      },
      "source": [
        "# Euler Problem 6 - Sum Square Difference\n",
        "\n",
        "seq = range(1, 101)\n",
        "sum_of_squares = sum(i**2 for i in seq)\n",
        "square_of_sum = sum(seq)**2\n",
        "print(square_of_sum - sum_of_squares)"
      ],
      "execution_count": 8,
      "outputs": [
        {
          "output_type": "stream",
          "text": [
            "25164150\n"
          ],
          "name": "stdout"
        }
      ]
    },
    {
      "cell_type": "code",
      "metadata": {
        "id": "d1vmA8hBuYUO",
        "colab_type": "code",
        "colab": {}
      },
      "source": [
        ""
      ],
      "execution_count": 0,
      "outputs": []
    }
  ]
}